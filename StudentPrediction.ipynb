{
 "cells": [
  {
   "cell_type": "code",
   "execution_count": 1,
   "id": "a852ccf6",
   "metadata": {},
   "outputs": [],
   "source": [
    "import missingno\n",
    "import pandas as pd\n",
    "import numpy as np\n",
    "import seaborn as sns\n",
    "sns.set_theme(style=\"white\")\n",
    "import scipy.cluster.hierarchy as shc\n",
    "import matplotlib.pyplot as plt\n",
    "import math\n",
    "%matplotlib inline\n",
    "import warnings\n",
    "from sklearn.neural_network import MLPClassifier\n",
    "from sklearn.metrics import confusion_matrix\n",
    "from sklearn.metrics import ConfusionMatrixDisplay\n",
    "from sklearn.metrics import roc_curve\n",
    "from sklearn.metrics import RocCurveDisplay\n",
    "warnings.filterwarnings(\"ignore\")\n",
    "from sklearn.preprocessing import LabelEncoder\n",
    "from sklearn.preprocessing import StandardScaler\n",
    "from sklearn.preprocessing import MinMaxScaler\n",
    "from sklearn.preprocessing import OneHotEncoder\n",
    "from sklearn.model_selection import train_test_split\n",
    "from sklearn.metrics import precision_recall_curve\n",
    "from sklearn.metrics import PrecisionRecallDisplay\n",
    "from sklearn import preprocessing\n",
    "from sklearn.ensemble import RandomForestClassifier\n",
    "from sklearn.naive_bayes import GaussianNB\n",
    "from sklearn import svm\n",
    "from sklearn.neighbors import KNeighborsClassifier\n",
    "from sklearn.linear_model import LinearRegression, LogisticRegression\n",
    "from sklearn.model_selection import cross_val_score\n",
    "from sklearn.feature_selection import mutual_info_classif\n",
    "from sklearn.model_selection import cross_validate,cross_val_predict\n",
    "\n",
    "df = pd.read_csv('xapi-Edu-data.csv')"
   ]
  },
  {
   "cell_type": "markdown",
   "id": "cb77b507",
   "metadata": {},
   "source": [
    "# Data Cleaning"
   ]
  },
  {
   "cell_type": "code",
   "execution_count": 2,
   "id": "0b3104d7",
   "metadata": {},
   "outputs": [
    {
     "data": {
      "text/html": [
       "<div>\n",
       "<style scoped>\n",
       "    .dataframe tbody tr th:only-of-type {\n",
       "        vertical-align: middle;\n",
       "    }\n",
       "\n",
       "    .dataframe tbody tr th {\n",
       "        vertical-align: top;\n",
       "    }\n",
       "\n",
       "    .dataframe thead th {\n",
       "        text-align: right;\n",
       "    }\n",
       "</style>\n",
       "<table border=\"1\" class=\"dataframe\">\n",
       "  <thead>\n",
       "    <tr style=\"text-align: right;\">\n",
       "      <th></th>\n",
       "      <th>gender</th>\n",
       "      <th>NationalITy</th>\n",
       "      <th>PlaceofBirth</th>\n",
       "      <th>StageID</th>\n",
       "      <th>GradeID</th>\n",
       "      <th>SectionID</th>\n",
       "      <th>Topic</th>\n",
       "      <th>Semester</th>\n",
       "      <th>Relation</th>\n",
       "      <th>raisedhands</th>\n",
       "      <th>VisITedResources</th>\n",
       "      <th>AnnouncementsView</th>\n",
       "      <th>Discussion</th>\n",
       "      <th>ParentAnsweringSurvey</th>\n",
       "      <th>ParentschoolSatisfaction</th>\n",
       "      <th>StudentAbsenceDays</th>\n",
       "      <th>Class</th>\n",
       "    </tr>\n",
       "  </thead>\n",
       "  <tbody>\n",
       "    <tr>\n",
       "      <th>0</th>\n",
       "      <td>M</td>\n",
       "      <td>KW</td>\n",
       "      <td>KuwaIT</td>\n",
       "      <td>lowerlevel</td>\n",
       "      <td>G-04</td>\n",
       "      <td>A</td>\n",
       "      <td>IT</td>\n",
       "      <td>F</td>\n",
       "      <td>Father</td>\n",
       "      <td>15</td>\n",
       "      <td>16</td>\n",
       "      <td>2</td>\n",
       "      <td>20</td>\n",
       "      <td>Yes</td>\n",
       "      <td>Good</td>\n",
       "      <td>Under-7</td>\n",
       "      <td>M</td>\n",
       "    </tr>\n",
       "    <tr>\n",
       "      <th>1</th>\n",
       "      <td>M</td>\n",
       "      <td>KW</td>\n",
       "      <td>KuwaIT</td>\n",
       "      <td>lowerlevel</td>\n",
       "      <td>G-04</td>\n",
       "      <td>A</td>\n",
       "      <td>IT</td>\n",
       "      <td>F</td>\n",
       "      <td>Father</td>\n",
       "      <td>20</td>\n",
       "      <td>20</td>\n",
       "      <td>3</td>\n",
       "      <td>25</td>\n",
       "      <td>Yes</td>\n",
       "      <td>Good</td>\n",
       "      <td>Under-7</td>\n",
       "      <td>M</td>\n",
       "    </tr>\n",
       "    <tr>\n",
       "      <th>2</th>\n",
       "      <td>M</td>\n",
       "      <td>KW</td>\n",
       "      <td>KuwaIT</td>\n",
       "      <td>lowerlevel</td>\n",
       "      <td>G-04</td>\n",
       "      <td>A</td>\n",
       "      <td>IT</td>\n",
       "      <td>F</td>\n",
       "      <td>Father</td>\n",
       "      <td>10</td>\n",
       "      <td>7</td>\n",
       "      <td>0</td>\n",
       "      <td>30</td>\n",
       "      <td>No</td>\n",
       "      <td>Bad</td>\n",
       "      <td>Above-7</td>\n",
       "      <td>L</td>\n",
       "    </tr>\n",
       "    <tr>\n",
       "      <th>3</th>\n",
       "      <td>M</td>\n",
       "      <td>KW</td>\n",
       "      <td>KuwaIT</td>\n",
       "      <td>lowerlevel</td>\n",
       "      <td>G-04</td>\n",
       "      <td>A</td>\n",
       "      <td>IT</td>\n",
       "      <td>F</td>\n",
       "      <td>Father</td>\n",
       "      <td>30</td>\n",
       "      <td>25</td>\n",
       "      <td>5</td>\n",
       "      <td>35</td>\n",
       "      <td>No</td>\n",
       "      <td>Bad</td>\n",
       "      <td>Above-7</td>\n",
       "      <td>L</td>\n",
       "    </tr>\n",
       "    <tr>\n",
       "      <th>4</th>\n",
       "      <td>M</td>\n",
       "      <td>KW</td>\n",
       "      <td>KuwaIT</td>\n",
       "      <td>lowerlevel</td>\n",
       "      <td>G-04</td>\n",
       "      <td>A</td>\n",
       "      <td>IT</td>\n",
       "      <td>F</td>\n",
       "      <td>Father</td>\n",
       "      <td>40</td>\n",
       "      <td>50</td>\n",
       "      <td>12</td>\n",
       "      <td>50</td>\n",
       "      <td>No</td>\n",
       "      <td>Bad</td>\n",
       "      <td>Above-7</td>\n",
       "      <td>M</td>\n",
       "    </tr>\n",
       "  </tbody>\n",
       "</table>\n",
       "</div>"
      ],
      "text/plain": [
       "  gender NationalITy PlaceofBirth     StageID GradeID SectionID Topic  \\\n",
       "0      M          KW       KuwaIT  lowerlevel    G-04         A    IT   \n",
       "1      M          KW       KuwaIT  lowerlevel    G-04         A    IT   \n",
       "2      M          KW       KuwaIT  lowerlevel    G-04         A    IT   \n",
       "3      M          KW       KuwaIT  lowerlevel    G-04         A    IT   \n",
       "4      M          KW       KuwaIT  lowerlevel    G-04         A    IT   \n",
       "\n",
       "  Semester Relation  raisedhands  VisITedResources  AnnouncementsView  \\\n",
       "0        F   Father           15                16                  2   \n",
       "1        F   Father           20                20                  3   \n",
       "2        F   Father           10                 7                  0   \n",
       "3        F   Father           30                25                  5   \n",
       "4        F   Father           40                50                 12   \n",
       "\n",
       "   Discussion ParentAnsweringSurvey ParentschoolSatisfaction  \\\n",
       "0          20                   Yes                     Good   \n",
       "1          25                   Yes                     Good   \n",
       "2          30                    No                      Bad   \n",
       "3          35                    No                      Bad   \n",
       "4          50                    No                      Bad   \n",
       "\n",
       "  StudentAbsenceDays Class  \n",
       "0            Under-7     M  \n",
       "1            Under-7     M  \n",
       "2            Above-7     L  \n",
       "3            Above-7     L  \n",
       "4            Above-7     M  "
      ]
     },
     "execution_count": 2,
     "metadata": {},
     "output_type": "execute_result"
    }
   ],
   "source": [
    "df.head()"
   ]
  },
  {
   "cell_type": "code",
   "execution_count": 3,
   "id": "d22d70a2",
   "metadata": {},
   "outputs": [
    {
     "data": {
      "text/plain": [
       "(480, 17)"
      ]
     },
     "execution_count": 3,
     "metadata": {},
     "output_type": "execute_result"
    }
   ],
   "source": [
    "df.shape"
   ]
  },
  {
   "cell_type": "code",
   "execution_count": 4,
   "id": "24925418",
   "metadata": {},
   "outputs": [
    {
     "data": {
      "text/html": [
       "<div>\n",
       "<style scoped>\n",
       "    .dataframe tbody tr th:only-of-type {\n",
       "        vertical-align: middle;\n",
       "    }\n",
       "\n",
       "    .dataframe tbody tr th {\n",
       "        vertical-align: top;\n",
       "    }\n",
       "\n",
       "    .dataframe thead th {\n",
       "        text-align: right;\n",
       "    }\n",
       "</style>\n",
       "<table border=\"1\" class=\"dataframe\">\n",
       "  <thead>\n",
       "    <tr style=\"text-align: right;\">\n",
       "      <th></th>\n",
       "      <th>raisedhands</th>\n",
       "      <th>VisITedResources</th>\n",
       "      <th>AnnouncementsView</th>\n",
       "      <th>Discussion</th>\n",
       "    </tr>\n",
       "  </thead>\n",
       "  <tbody>\n",
       "    <tr>\n",
       "      <th>count</th>\n",
       "      <td>480.000000</td>\n",
       "      <td>480.000000</td>\n",
       "      <td>480.000000</td>\n",
       "      <td>480.000000</td>\n",
       "    </tr>\n",
       "    <tr>\n",
       "      <th>mean</th>\n",
       "      <td>46.775000</td>\n",
       "      <td>54.797917</td>\n",
       "      <td>37.918750</td>\n",
       "      <td>43.283333</td>\n",
       "    </tr>\n",
       "    <tr>\n",
       "      <th>std</th>\n",
       "      <td>30.779223</td>\n",
       "      <td>33.080007</td>\n",
       "      <td>26.611244</td>\n",
       "      <td>27.637735</td>\n",
       "    </tr>\n",
       "    <tr>\n",
       "      <th>min</th>\n",
       "      <td>0.000000</td>\n",
       "      <td>0.000000</td>\n",
       "      <td>0.000000</td>\n",
       "      <td>1.000000</td>\n",
       "    </tr>\n",
       "    <tr>\n",
       "      <th>25%</th>\n",
       "      <td>15.750000</td>\n",
       "      <td>20.000000</td>\n",
       "      <td>14.000000</td>\n",
       "      <td>20.000000</td>\n",
       "    </tr>\n",
       "    <tr>\n",
       "      <th>50%</th>\n",
       "      <td>50.000000</td>\n",
       "      <td>65.000000</td>\n",
       "      <td>33.000000</td>\n",
       "      <td>39.000000</td>\n",
       "    </tr>\n",
       "    <tr>\n",
       "      <th>75%</th>\n",
       "      <td>75.000000</td>\n",
       "      <td>84.000000</td>\n",
       "      <td>58.000000</td>\n",
       "      <td>70.000000</td>\n",
       "    </tr>\n",
       "    <tr>\n",
       "      <th>max</th>\n",
       "      <td>100.000000</td>\n",
       "      <td>99.000000</td>\n",
       "      <td>98.000000</td>\n",
       "      <td>99.000000</td>\n",
       "    </tr>\n",
       "  </tbody>\n",
       "</table>\n",
       "</div>"
      ],
      "text/plain": [
       "       raisedhands  VisITedResources  AnnouncementsView  Discussion\n",
       "count   480.000000        480.000000         480.000000  480.000000\n",
       "mean     46.775000         54.797917          37.918750   43.283333\n",
       "std      30.779223         33.080007          26.611244   27.637735\n",
       "min       0.000000          0.000000           0.000000    1.000000\n",
       "25%      15.750000         20.000000          14.000000   20.000000\n",
       "50%      50.000000         65.000000          33.000000   39.000000\n",
       "75%      75.000000         84.000000          58.000000   70.000000\n",
       "max     100.000000         99.000000          98.000000   99.000000"
      ]
     },
     "execution_count": 4,
     "metadata": {},
     "output_type": "execute_result"
    }
   ],
   "source": [
    "#It does make sense that a student won't visit resources, raise hands in class and view announcements\n",
    "df.describe()"
   ]
  },
  {
   "cell_type": "code",
   "execution_count": 5,
   "id": "08d213ba",
   "metadata": {},
   "outputs": [
    {
     "data": {
      "text/plain": [
       "Index(['gender', 'NationalITy', 'PlaceofBirth', 'StageID', 'GradeID',\n",
       "       'SectionID', 'Topic', 'Semester', 'Relation', 'raisedhands',\n",
       "       'VisITedResources', 'AnnouncementsView', 'Discussion',\n",
       "       'ParentAnsweringSurvey', 'ParentschoolSatisfaction',\n",
       "       'StudentAbsenceDays', 'Class'],\n",
       "      dtype='object')"
      ]
     },
     "execution_count": 5,
     "metadata": {},
     "output_type": "execute_result"
    }
   ],
   "source": [
    "df.columns"
   ]
  },
  {
   "cell_type": "code",
   "execution_count": 6,
   "id": "a3f7b116",
   "metadata": {
    "scrolled": true
   },
   "outputs": [
    {
     "data": {
      "text/plain": [
       "<AxesSubplot:>"
      ]
     },
     "execution_count": 6,
     "metadata": {},
     "output_type": "execute_result"
    },
    {
     "data": {
      "image/png": "[encoded data removed]",
      "text/plain": [
       "<Figure size 2160x720 with 2 Axes>"
      ]
     },
     "metadata": {
      "needs_background": "light"
     },
     "output_type": "display_data"
    }
   ],
   "source": [
    "#Looking for Missing Values\n",
    "#No missing values\n",
    "missingno.matrix(df,figsize=(30,10))"
   ]
  },
  {
   "cell_type": "code",
   "execution_count": 7,
   "id": "51b4c5d2",
   "metadata": {},
   "outputs": [
    {
     "data": {
      "text/html": [
       "<div>\n",
       "<style scoped>\n",
       "    .dataframe tbody tr th:only-of-type {\n",
       "        vertical-align: middle;\n",
       "    }\n",
       "\n",
       "    .dataframe tbody tr th {\n",
       "        vertical-align: top;\n",
       "    }\n",
       "\n",
       "    .dataframe thead th {\n",
       "        text-align: right;\n",
       "    }\n",
       "</style>\n",
       "<table border=\"1\" class=\"dataframe\">\n",
       "  <thead>\n",
       "    <tr style=\"text-align: right;\">\n",
       "      <th></th>\n",
       "      <th>gender</th>\n",
       "      <th>NationalITy</th>\n",
       "      <th>PlaceofBirth</th>\n",
       "      <th>StageID</th>\n",
       "      <th>GradeID</th>\n",
       "      <th>SectionID</th>\n",
       "      <th>Topic</th>\n",
       "      <th>Semester</th>\n",
       "      <th>Relation</th>\n",
       "      <th>raisedhands</th>\n",
       "      <th>VisITedResources</th>\n",
       "      <th>AnnouncementsView</th>\n",
       "      <th>Discussion</th>\n",
       "      <th>ParentAnsweringSurvey</th>\n",
       "      <th>ParentschoolSatisfaction</th>\n",
       "      <th>StudentAbsenceDays</th>\n",
       "      <th>Class</th>\n",
       "    </tr>\n",
       "  </thead>\n",
       "  <tbody>\n",
       "    <tr>\n",
       "      <th>326</th>\n",
       "      <td>M</td>\n",
       "      <td>Jordan</td>\n",
       "      <td>Jordan</td>\n",
       "      <td>lowerlevel</td>\n",
       "      <td>G-02</td>\n",
       "      <td>A</td>\n",
       "      <td>French</td>\n",
       "      <td>F</td>\n",
       "      <td>Father</td>\n",
       "      <td>10</td>\n",
       "      <td>15</td>\n",
       "      <td>10</td>\n",
       "      <td>21</td>\n",
       "      <td>No</td>\n",
       "      <td>Bad</td>\n",
       "      <td>Above-7</td>\n",
       "      <td>L</td>\n",
       "    </tr>\n",
       "    <tr>\n",
       "      <th>327</th>\n",
       "      <td>M</td>\n",
       "      <td>Jordan</td>\n",
       "      <td>Jordan</td>\n",
       "      <td>lowerlevel</td>\n",
       "      <td>G-02</td>\n",
       "      <td>A</td>\n",
       "      <td>French</td>\n",
       "      <td>S</td>\n",
       "      <td>Father</td>\n",
       "      <td>30</td>\n",
       "      <td>10</td>\n",
       "      <td>20</td>\n",
       "      <td>5</td>\n",
       "      <td>No</td>\n",
       "      <td>Bad</td>\n",
       "      <td>Above-7</td>\n",
       "      <td>L</td>\n",
       "    </tr>\n",
       "  </tbody>\n",
       "</table>\n",
       "</div>"
      ],
      "text/plain": [
       "    gender NationalITy PlaceofBirth     StageID GradeID SectionID   Topic  \\\n",
       "326      M      Jordan       Jordan  lowerlevel    G-02         A  French   \n",
       "327      M      Jordan       Jordan  lowerlevel    G-02         A  French   \n",
       "\n",
       "    Semester Relation  raisedhands  VisITedResources  AnnouncementsView  \\\n",
       "326        F   Father           10                15                 10   \n",
       "327        S   Father           30                10                 20   \n",
       "\n",
       "     Discussion ParentAnsweringSurvey ParentschoolSatisfaction  \\\n",
       "326          21                    No                      Bad   \n",
       "327           5                    No                      Bad   \n",
       "\n",
       "    StudentAbsenceDays Class  \n",
       "326            Above-7     L  \n",
       "327            Above-7     L  "
      ]
     },
     "execution_count": 7,
     "metadata": {},
     "output_type": "execute_result"
    }
   ],
   "source": [
    "df[df.duplicated(df.columns)]\n",
    "#No duplicates"
   ]
  },
  {
   "cell_type": "code",
   "execution_count": 8,
   "id": "1b3bf662",
   "metadata": {},
   "outputs": [
    {
     "data": {
      "text/plain": [
       "array(['KW', 'lebanon', 'Egypt', 'SaudiArabia', 'USA', 'Jordan',\n",
       "       'venzuela', 'Iran', 'Tunis', 'Morocco', 'Syria', 'Palestine',\n",
       "       'Iraq', 'Lybia'], dtype=object)"
      ]
     },
     "execution_count": 8,
     "metadata": {},
     "output_type": "execute_result"
    }
   ],
   "source": [
    "df['NationalITy'].unique()"
   ]
  },
  {
   "cell_type": "markdown",
   "id": "27314e78",
   "metadata": {},
   "source": [
    "# Encoding Categorical Features"
   ]
  },
  {
   "cell_type": "markdown",
   "id": "527ddbf5",
   "metadata": {},
   "source": [
    "## One Hot Encoding"
   ]
  },
  {
   "cell_type": "code",
   "execution_count": 9,
   "id": "0a8ee1da",
   "metadata": {},
   "outputs": [],
   "source": [
    "features1 = ['gender', 'NationalITy', 'PlaceofBirth', 'StageID', 'GradeID',\n",
    "                    'SectionID', 'Topic', 'Semester', 'Relation','ParentAnsweringSurvey',\n",
    "                    'ParentschoolSatisfaction','StudentAbsenceDays','Class']\n",
    "encoded_features = []\n",
    "def encode_it_all(df):\n",
    "    # one-hot encoding\n",
    "    all_encodings = []\n",
    "    encoded_features = []\n",
    "    for feature in features1:\n",
    "        # print(feature)\n",
    "        X = OneHotEncoder().fit_transform(df[feature].values.reshape(-1, 1)).toarray()\n",
    "        cols = [feature + '_' + str(i) for i in range(0, df[feature].nunique())]\n",
    "        encoded_features += cols\n",
    "        tmp_df = pd.DataFrame(X, columns=cols)\n",
    "        tmp_df.index = df.index\n",
    "        all_encodings.append(tmp_df)\n",
    "        \n",
    " \n",
    "    # then let's create a new df with all of these new variables\n",
    "    return(pd.concat([df, *all_encodings], axis=1))\n",
    "\n",
    "one_hot_encoded_df = encode_it_all(df)\n"
   ]
  },
  {
   "cell_type": "code",
   "execution_count": 10,
   "id": "89275ca3",
   "metadata": {},
   "outputs": [],
   "source": [
    "one_hot_encoded_df.drop(features1,axis=1,inplace=True)"
   ]
  },
  {
   "cell_type": "code",
   "execution_count": 11,
   "id": "eef9df81",
   "metadata": {},
   "outputs": [
    {
     "data": {
      "text/html": [
       "<div>\n",
       "<style scoped>\n",
       "    .dataframe tbody tr th:only-of-type {\n",
       "        vertical-align: middle;\n",
       "    }\n",
       "\n",
       "    .dataframe tbody tr th {\n",
       "        vertical-align: top;\n",
       "    }\n",
       "\n",
       "    .dataframe thead th {\n",
       "        text-align: right;\n",
       "    }\n",
       "</style>\n",
       "<table border=\"1\" class=\"dataframe\">\n",
       "  <thead>\n",
       "    <tr style=\"text-align: right;\">\n",
       "      <th></th>\n",
       "      <th>raisedhands</th>\n",
       "      <th>VisITedResources</th>\n",
       "      <th>AnnouncementsView</th>\n",
       "      <th>Discussion</th>\n",
       "      <th>gender_0</th>\n",
       "      <th>gender_1</th>\n",
       "      <th>NationalITy_0</th>\n",
       "      <th>NationalITy_1</th>\n",
       "      <th>NationalITy_2</th>\n",
       "      <th>NationalITy_3</th>\n",
       "      <th>...</th>\n",
       "      <th>Relation_1</th>\n",
       "      <th>ParentAnsweringSurvey_0</th>\n",
       "      <th>ParentAnsweringSurvey_1</th>\n",
       "      <th>ParentschoolSatisfaction_0</th>\n",
       "      <th>ParentschoolSatisfaction_1</th>\n",
       "      <th>StudentAbsenceDays_0</th>\n",
       "      <th>StudentAbsenceDays_1</th>\n",
       "      <th>Class_0</th>\n",
       "      <th>Class_1</th>\n",
       "      <th>Class_2</th>\n",
       "    </tr>\n",
       "  </thead>\n",
       "  <tbody>\n",
       "    <tr>\n",
       "      <th>0</th>\n",
       "      <td>15</td>\n",
       "      <td>16</td>\n",
       "      <td>2</td>\n",
       "      <td>20</td>\n",
       "      <td>0.0</td>\n",
       "      <td>1.0</td>\n",
       "      <td>0.0</td>\n",
       "      <td>0.0</td>\n",
       "      <td>0.0</td>\n",
       "      <td>0.0</td>\n",
       "      <td>...</td>\n",
       "      <td>0.0</td>\n",
       "      <td>0.0</td>\n",
       "      <td>1.0</td>\n",
       "      <td>0.0</td>\n",
       "      <td>1.0</td>\n",
       "      <td>0.0</td>\n",
       "      <td>1.0</td>\n",
       "      <td>0.0</td>\n",
       "      <td>0.0</td>\n",
       "      <td>1.0</td>\n",
       "    </tr>\n",
       "    <tr>\n",
       "      <th>1</th>\n",
       "      <td>20</td>\n",
       "      <td>20</td>\n",
       "      <td>3</td>\n",
       "      <td>25</td>\n",
       "      <td>0.0</td>\n",
       "      <td>1.0</td>\n",
       "      <td>0.0</td>\n",
       "      <td>0.0</td>\n",
       "      <td>0.0</td>\n",
       "      <td>0.0</td>\n",
       "      <td>...</td>\n",
       "      <td>0.0</td>\n",
       "      <td>0.0</td>\n",
       "      <td>1.0</td>\n",
       "      <td>0.0</td>\n",
       "      <td>1.0</td>\n",
       "      <td>0.0</td>\n",
       "      <td>1.0</td>\n",
       "      <td>0.0</td>\n",
       "      <td>0.0</td>\n",
       "      <td>1.0</td>\n",
       "    </tr>\n",
       "    <tr>\n",
       "      <th>2</th>\n",
       "      <td>10</td>\n",
       "      <td>7</td>\n",
       "      <td>0</td>\n",
       "      <td>30</td>\n",
       "      <td>0.0</td>\n",
       "      <td>1.0</td>\n",
       "      <td>0.0</td>\n",
       "      <td>0.0</td>\n",
       "      <td>0.0</td>\n",
       "      <td>0.0</td>\n",
       "      <td>...</td>\n",
       "      <td>0.0</td>\n",
       "      <td>1.0</td>\n",
       "      <td>0.0</td>\n",
       "      <td>1.0</td>\n",
       "      <td>0.0</td>\n",
       "      <td>1.0</td>\n",
       "      <td>0.0</td>\n",
       "      <td>0.0</td>\n",
       "      <td>1.0</td>\n",
       "      <td>0.0</td>\n",
       "    </tr>\n",
       "    <tr>\n",
       "      <th>3</th>\n",
       "      <td>30</td>\n",
       "      <td>25</td>\n",
       "      <td>5</td>\n",
       "      <td>35</td>\n",
       "      <td>0.0</td>\n",
       "      <td>1.0</td>\n",
       "      <td>0.0</td>\n",
       "      <td>0.0</td>\n",
       "      <td>0.0</td>\n",
       "      <td>0.0</td>\n",
       "      <td>...</td>\n",
       "      <td>0.0</td>\n",
       "      <td>1.0</td>\n",
       "      <td>0.0</td>\n",
       "      <td>1.0</td>\n",
       "      <td>0.0</td>\n",
       "      <td>1.0</td>\n",
       "      <td>0.0</td>\n",
       "      <td>0.0</td>\n",
       "      <td>1.0</td>\n",
       "      <td>0.0</td>\n",
       "    </tr>\n",
       "    <tr>\n",
       "      <th>4</th>\n",
       "      <td>40</td>\n",
       "      <td>50</td>\n",
       "      <td>12</td>\n",
       "      <td>50</td>\n",
       "      <td>0.0</td>\n",
       "      <td>1.0</td>\n",
       "      <td>0.0</td>\n",
       "      <td>0.0</td>\n",
       "      <td>0.0</td>\n",
       "      <td>0.0</td>\n",
       "      <td>...</td>\n",
       "      <td>0.0</td>\n",
       "      <td>1.0</td>\n",
       "      <td>0.0</td>\n",
       "      <td>1.0</td>\n",
       "      <td>0.0</td>\n",
       "      <td>1.0</td>\n",
       "      <td>0.0</td>\n",
       "      <td>0.0</td>\n",
       "      <td>0.0</td>\n",
       "      <td>1.0</td>\n",
       "    </tr>\n",
       "  </tbody>\n",
       "</table>\n",
       "<p>5 rows × 75 columns</p>\n",
       "</div>"
      ],
      "text/plain": [
       "   raisedhands  VisITedResources  AnnouncementsView  Discussion  gender_0  \\\n",
       "0           15                16                  2          20       0.0   \n",
       "1           20                20                  3          25       0.0   \n",
       "2           10                 7                  0          30       0.0   \n",
       "3           30                25                  5          35       0.0   \n",
       "4           40                50                 12          50       0.0   \n",
       "\n",
       "   gender_1  NationalITy_0  NationalITy_1  NationalITy_2  NationalITy_3  ...  \\\n",
       "0       1.0            0.0            0.0            0.0            0.0  ...   \n",
       "1       1.0            0.0            0.0            0.0            0.0  ...   \n",
       "2       1.0            0.0            0.0            0.0            0.0  ...   \n",
       "3       1.0            0.0            0.0            0.0            0.0  ...   \n",
       "4       1.0            0.0            0.0            0.0            0.0  ...   \n",
       "\n",
       "   Relation_1  ParentAnsweringSurvey_0  ParentAnsweringSurvey_1  \\\n",
       "0         0.0                      0.0                      1.0   \n",
       "1         0.0                      0.0                      1.0   \n",
       "2         0.0                      1.0                      0.0   \n",
       "3         0.0                      1.0                      0.0   \n",
       "4         0.0                      1.0                      0.0   \n",
       "\n",
       "   ParentschoolSatisfaction_0  ParentschoolSatisfaction_1  \\\n",
       "0                         0.0                         1.0   \n",
       "1                         0.0                         1.0   \n",
       "2                         1.0                         0.0   \n",
       "3                         1.0                         0.0   \n",
       "4                         1.0                         0.0   \n",
       "\n",
       "   StudentAbsenceDays_0  StudentAbsenceDays_1  Class_0  Class_1  Class_2  \n",
       "0                   0.0                   1.0      0.0      0.0      1.0  \n",
       "1                   0.0                   1.0      0.0      0.0      1.0  \n",
       "2                   1.0                   0.0      0.0      1.0      0.0  \n",
       "3                   1.0                   0.0      0.0      1.0      0.0  \n",
       "4                   1.0                   0.0      0.0      0.0      1.0  \n",
       "\n",
       "[5 rows x 75 columns]"
      ]
     },
     "execution_count": 11,
     "metadata": {},
     "output_type": "execute_result"
    }
   ],
   "source": [
    "one_hot_encoded_df.head()"
   ]
  },
  {
   "cell_type": "markdown",
   "id": "69da12b3",
   "metadata": {},
   "source": [
    "# Base Model"
   ]
  },
  {
   "cell_type": "code",
   "execution_count": 12,
   "id": "78b934d8",
   "metadata": {},
   "outputs": [],
   "source": [
    "X = StandardScaler().fit_transform(one_hot_encoded_df[one_hot_encoded_df.columns[:-3]])\n",
    "y = df.Class\n",
    "X_train, X_test, y_train, y_test = train_test_split(X, y, test_size=0.25, random_state=42)\n"
   ]
  },
  {
   "cell_type": "markdown",
   "id": "c8261681",
   "metadata": {},
   "source": [
    "## Logistic Regression"
   ]
  },
  {
   "cell_type": "code",
   "execution_count": 13,
   "id": "8c1f0970",
   "metadata": {},
   "outputs": [
    {
     "name": "stdout",
     "output_type": "stream",
     "text": [
      "10 fold cross validation results\n",
      "Accuracy: 0.72 (+/- 0.05)\n"
     ]
    }
   ],
   "source": [
    "Logistic_Regression = LogisticRegression()\n",
    "Logistic_Regression.fit(X_train, y_train)\n",
    "Logistic_Regression_Scores = cross_validate(LogisticRegression(), X_train, y_train,scoring='accuracy', cv=10)\n",
    "print(\"10 fold cross validation results\")\n",
    "print(\"Accuracy: %0.2f (+/- %0.2f)\" % (Logistic_Regression_Scores[\"test_score\"].mean(),Logistic_Regression_Scores[\"test_score\"].std()))\n"
   ]
  },
  {
   "cell_type": "markdown",
   "id": "937bb29c",
   "metadata": {},
   "source": [
    "## Support Vector Machine"
   ]
  },
  {
   "cell_type": "code",
   "execution_count": 14,
   "id": "bfe5973b",
   "metadata": {},
   "outputs": [
    {
     "name": "stdout",
     "output_type": "stream",
     "text": [
      "10 fold cross validation results\n",
      "Accuracy: 0.72 (+/- 0.08)\n"
     ]
    }
   ],
   "source": [
    "Support_Vector_Machine = svm.SVC(kernel='rbf',gamma='scale',C=10,class_weight='balanced')\n",
    "Support_Vector_Machine.fit(X_train, y_train)\n",
    "SVM_Scores = cross_validate(Support_Vector_Machine, X_train, y_train,scoring='accuracy',cv=10)\n",
    "print(\"10 fold cross validation results\")\n",
    "print(\"Accuracy: %0.2f (+/- %0.2f)\" % (SVM_Scores[\"test_score\"].mean(),SVM_Scores[\"test_score\"].std()))"
   ]
  },
  {
   "cell_type": "markdown",
   "id": "803e1dfe",
   "metadata": {},
   "source": [
    "## K-Nearest Neighbour"
   ]
  },
  {
   "cell_type": "code",
   "execution_count": 15,
   "id": "0df7f3e5",
   "metadata": {},
   "outputs": [
    {
     "name": "stdout",
     "output_type": "stream",
     "text": [
      "10 fold cross validation results\n",
      "Accuracy: 0.66 (+/- 0.06)\n"
     ]
    }
   ],
   "source": [
    "KNN = KNeighborsClassifier(n_neighbors=5,weights='distance',metric='manhattan')\n",
    "KNN.fit(X_train, y_train)\n",
    "KNN_Scores = cross_validate(KNN, X_train, y_train, scoring='accuracy', cv=10,return_train_score=True)\n",
    "print(\"10 fold cross validation results\")\n",
    "print(\"Accuracy: %0.2f (+/- %0.2f)\" % (KNN_Scores[\"test_score\"].mean(),KNN_Scores[\"test_score\"].std()))"
   ]
  },
  {
   "cell_type": "markdown",
   "id": "89ddc576",
   "metadata": {},
   "source": [
    "## Gaussian Naive Bayes"
   ]
  },
  {
   "cell_type": "code",
   "execution_count": 16,
   "id": "ec402294",
   "metadata": {},
   "outputs": [
    {
     "name": "stdout",
     "output_type": "stream",
     "text": [
      "10 fold cross validation results\n",
      "Accuracy: 0.37 (+/- 0.04)\n"
     ]
    }
   ],
   "source": [
    "Gaussian_NB = GaussianNB()\n",
    "Gaussian_NB.fit(X_train, y_train)\n",
    "Gaussian_Scores = cross_validate(Gaussian_NB,X_train, y_train,scoring='accuracy', cv=10)\n",
    "print(\"10 fold cross validation results\")\n",
    "print(\"Accuracy: %0.2f (+/- %0.2f)\" % (Gaussian_Scores[\"test_score\"].mean(),Gaussian_Scores[\"test_score\"].std()))"
   ]
  },
  {
   "cell_type": "markdown",
   "id": "1d8b619a",
   "metadata": {},
   "source": [
    "## Random Forest"
   ]
  },
  {
   "cell_type": "code",
   "execution_count": 177,
   "id": "8cac416a",
   "metadata": {},
   "outputs": [
    {
     "name": "stdout",
     "output_type": "stream",
     "text": [
      "10 fold cross validation results\n",
      "Accuracy: 0.81 (+/- 0.07)\n"
     ]
    }
   ],
   "source": [
    "Random_Forest = RandomForestClassifier(criterion='gini',n_estimators=80)\n",
    "Random_Forest.fit(X_train, y_train)\n",
    "Random_Forest_Scores = cross_validate(RandomForestClassifier(), X_train, y_train, cv=10)\n",
    "print(\"10 fold cross validation results\")\n",
    "print(\"Accuracy: %0.2f (+/- %0.2f)\" % (Random_Forest_Scores[\"test_score\"].mean(),Random_Forest_Scores[\"test_score\"].std()))"
   ]
  },
  {
   "cell_type": "code",
   "execution_count": 178,
   "id": "de25c785",
   "metadata": {},
   "outputs": [],
   "source": [
    "X_test = pd.DataFrame(X_test)\n",
    "X_test.columns = one_hot_encoded_df.columns[:-3]"
   ]
  },
  {
   "cell_type": "markdown",
   "id": "923de2a6",
   "metadata": {},
   "source": [
    "# Feature Selection\n",
    "\n",
    "To improve on our models accuracy, we will use feature selection. We now continuosly add features with accordance to their mutual information gain until model perfomance starts to flatten out in order to get a cut off point."
   ]
  },
  {
   "cell_type": "code",
   "execution_count": 179,
   "id": "ef0a58dc",
   "metadata": {},
   "outputs": [],
   "source": [
    "features=np.array([feature for feature in X_test.columns])\n",
    "information_gain=mutual_info_classif(X_test, y_test,n_neighbors=3)\n",
    "idx=np.argsort(information_gain)[::-1]\n",
    "information_gain=information_gain[idx]\n",
    "features=features[idx]"
   ]
  },
  {
   "cell_type": "code",
   "execution_count": 180,
   "id": "ddeedfb7",
   "metadata": {},
   "outputs": [
    {
     "name": "stdout",
     "output_type": "stream",
     "text": [
      "Number of features kept: 35\n",
      "Number of features: removed 37\n",
      "Accuracy: 0.78 (+/- 0.13)\n"
     ]
    },
    {
     "data": {
      "image/png": "[encoded data removed]",
      "text/plain": [
       "<Figure size 432x288 with 1 Axes>"
      ]
     },
     "metadata": {},
     "output_type": "display_data"
    }
   ],
   "source": [
    "number_of_features=np.arange(1,len(features)+1)\n",
    "accuracy=np.zeros(len(features))\n",
    "std=np.zeros(len(features))\n",
    "\n",
    "for i in range(1,len(features)):\n",
    "    x_norm_pruned=X_test[(features[:i])]\n",
    "    support_vector_machine = svm.SVC(kernel=\"rbf\",C=6)\n",
    "    support_vector_machine.fit(x_norm_pruned, y_test)\n",
    "    scores = cross_validate(support_vector_machine, x_norm_pruned, y_test, scoring=\"accuracy\",cv=10)\n",
    "    accuracy[i]=scores[\"test_score\"].mean()\n",
    "    std[i]=scores[\"test_score\"].std()\n",
    "    \n",
    "index=np.argsort(accuracy)\n",
    "print(\"Number of features kept:\",index[-1])\n",
    "print(\"Number of features: removed\",len(idx)-index[-1])\n",
    "print(\"Accuracy: %0.2f (+/- %0.2f)\" % (accuracy[index[-1]],std[-1]))\n",
    "plt.figure()\n",
    "plt.grid(True)\n",
    "# plt.rc('xtick',labelsize=8)\n",
    "# plt.rc('ytick',labelsize=8)\n",
    "plt.xlabel(\"Number of features\")\n",
    "plt.ylabel(\"% Accuracy\")\n",
    "\n",
    "plt.scatter(number_of_features,accuracy*100,c=\"green\")\n",
    "plt.plot(number_of_features,accuracy*100,c=\"green\")\n",
    "plt.vlines(x=55,ymin=0,ymax=95,linestyles=\"dashed\",color=\"red\")\n",
    "plt.savefig(\"accuracy_graph.png\")\n",
    "plt.show()"
   ]
  },
  {
   "cell_type": "markdown",
   "id": "c79fc3ce",
   "metadata": {},
   "source": [
    "## Best Features"
   ]
  },
  {
   "cell_type": "code",
   "execution_count": 181,
   "id": "30a49bee",
   "metadata": {
    "scrolled": true
   },
   "outputs": [
    {
     "name": "stdout",
     "output_type": "stream",
     "text": [
      "VisITedResources , mutual information : 0.3547958266956599\n",
      "raisedhands , mutual information : 0.32144247225249334\n",
      "StudentAbsenceDays_0 , mutual information : 0.31026580700884776\n",
      "StudentAbsenceDays_1 , mutual information : 0.23928478588790147\n",
      "AnnouncementsView , mutual information : 0.19285481559901085\n",
      "PlaceofBirth_2 , mutual information : 0.12326484812018634\n",
      "Topic_6 , mutual information : 0.11047212470958945\n",
      "Discussion , mutual information : 0.10883342216796232\n",
      "ParentAnsweringSurvey_1 , mutual information : 0.10874268806326581\n",
      "gender_0 , mutual information : 0.09956455830563793\n",
      "PlaceofBirth_5 , mutual information : 0.09415310745706851\n",
      "GradeID_8 , mutual information : 0.06995109422835255\n",
      "Topic_11 , mutual information : 0.06606177589231366\n",
      "NationalITy_5 , mutual information : 0.06517229699502725\n",
      "StageID_1 , mutual information : 0.06407173301119795\n",
      "Semester_0 , mutual information : 0.06373623911771853\n",
      "Relation_0 , mutual information : 0.06284498235800773\n",
      "ParentschoolSatisfaction_0 , mutual information : 0.05909252491816064\n",
      "NationalITy_3 , mutual information : 0.0574351448656627\n",
      "GradeID_6 , mutual information : 0.056838541397340014\n",
      "NationalITy_0 , mutual information : 0.05675639215305339\n",
      "NationalITy_9 , mutual information : 0.05233907395218962\n",
      "PlaceofBirth_3 , mutual information : 0.05083628465095558\n",
      "Topic_4 , mutual information : 0.047792625089053464\n",
      "ParentAnsweringSurvey_0 , mutual information : 0.04263600027005987\n",
      "Topic_5 , mutual information : 0.04011347229302231\n",
      "NationalITy_7 , mutual information : 0.031176148456059316\n",
      "NationalITy_4 , mutual information : 0.028763589849559956\n",
      "PlaceofBirth_12 , mutual information : 0.01984232501013361\n",
      "PlaceofBirth_13 , mutual information : 0.013258818800880423\n",
      "NationalITy_2 , mutual information : 0.012583960766985314\n",
      "Topic_3 , mutual information : 0.011756639469734598\n",
      "Relation_1 , mutual information : 0.010382771681407776\n",
      "PlaceofBirth_4 , mutual information : 0.007829942788351474\n",
      "PlaceofBirth_11 , mutual information : 0.006615654416460615\n"
     ]
    }
   ],
   "source": [
    "idx=np.argsort(accuracy)[::-1]\n",
    "optimal_features=(features[0:idx[0]])\n",
    "for i in range(len(optimal_features)):\n",
    "    print(optimal_features[i],\",\",\"mutual information :\",information_gain[i])"
   ]
  },
  {
   "cell_type": "code",
   "execution_count": 182,
   "id": "ef3673b3",
   "metadata": {},
   "outputs": [
    {
     "data": {
      "text/plain": [
       "array(['A', 'B', 'C'], dtype=object)"
      ]
     },
     "execution_count": 182,
     "metadata": {},
     "output_type": "execute_result"
    }
   ],
   "source": [
    "df['SectionID'].unique()"
   ]
  },
  {
   "cell_type": "code",
   "execution_count": 183,
   "id": "a325742b",
   "metadata": {},
   "outputs": [
    {
     "data": {
      "text/plain": [
       "array(['KuwaIT', 'lebanon', 'Egypt', 'SaudiArabia', 'USA', 'Jordan',\n",
       "       'venzuela', 'Iran', 'Tunis', 'Morocco', 'Syria', 'Iraq',\n",
       "       'Palestine', 'Lybia'], dtype=object)"
      ]
     },
     "execution_count": 183,
     "metadata": {},
     "output_type": "execute_result"
    }
   ],
   "source": [
    "df['PlaceofBirth'].unique()"
   ]
  },
  {
   "cell_type": "code",
   "execution_count": 184,
   "id": "d44e8a5c",
   "metadata": {},
   "outputs": [
    {
     "data": {
      "text/plain": [
       "array(['KW', 'lebanon', 'Egypt', 'SaudiArabia', 'USA', 'Jordan',\n",
       "       'venzuela', 'Iran', 'Tunis', 'Morocco', 'Syria', 'Palestine',\n",
       "       'Iraq', 'Lybia'], dtype=object)"
      ]
     },
     "execution_count": 184,
     "metadata": {},
     "output_type": "execute_result"
    }
   ],
   "source": [
    "df['NationalITy'].unique()"
   ]
  },
  {
   "cell_type": "code",
   "execution_count": 185,
   "id": "d169a82e",
   "metadata": {},
   "outputs": [
    {
     "data": {
      "text/plain": [
       "array(['IT', 'Math', 'Arabic', 'Science', 'English', 'Quran', 'Spanish',\n",
       "       'French', 'History', 'Biology', 'Chemistry', 'Geology'],\n",
       "      dtype=object)"
      ]
     },
     "execution_count": 185,
     "metadata": {},
     "output_type": "execute_result"
    }
   ],
   "source": [
    "df['Topic'].unique()"
   ]
  },
  {
   "cell_type": "code",
   "execution_count": 186,
   "id": "7cdca212",
   "metadata": {},
   "outputs": [
    {
     "data": {
      "text/plain": [
       "array(['Yes', 'No'], dtype=object)"
      ]
     },
     "execution_count": 186,
     "metadata": {},
     "output_type": "execute_result"
    }
   ],
   "source": [
    "df['ParentAnsweringSurvey'].unique()"
   ]
  },
  {
   "cell_type": "code",
   "execution_count": 187,
   "id": "55d9b66a",
   "metadata": {
    "scrolled": true
   },
   "outputs": [
    {
     "data": {
      "image/png": "[encoded data removed]",
      "text/plain": [
       "<Figure size 432x288 with 1 Axes>"
      ]
     },
     "metadata": {},
     "output_type": "display_data"
    }
   ],
   "source": [
    "df_gb = df.groupby(['ParentAnsweringSurvey','Class']).size().unstack(level=1)\n",
    "df_gb.plot(kind='bar')\n",
    "plt.savefig(\"ParentAnsweringSurvey.png\")"
   ]
  },
  {
   "cell_type": "code",
   "execution_count": 188,
   "id": "3a28cea3",
   "metadata": {},
   "outputs": [
    {
     "data": {
      "image/png": "[encoded data removed]",
      "text/plain": [
       "<Figure size 432x288 with 1 Axes>"
      ]
     },
     "metadata": {},
     "output_type": "display_data"
    }
   ],
   "source": [
    "sns.set_theme(style=\"whitegrid\")\n",
    "ax = sns.boxplot(x=\"Class\", y=\"VisITedResources\", data=df)\n",
    "plt.savefig(\"Visited_Resources.png\")"
   ]
  },
  {
   "cell_type": "code",
   "execution_count": 189,
   "id": "841f6a38",
   "metadata": {},
   "outputs": [
    {
     "data": {
      "image/png": "[encoded data removed]",
      "text/plain": [
       "<Figure size 432x288 with 1 Axes>"
      ]
     },
     "metadata": {},
     "output_type": "display_data"
    }
   ],
   "source": [
    "sns.set_theme(style=\"whitegrid\")\n",
    "ax = sns.boxplot(x=\"Class\", y=\"raisedhands\", data=df)\n",
    "plt.savefig(\"Visited_Resources.png\")"
   ]
  },
  {
   "cell_type": "code",
   "execution_count": 190,
   "id": "da8ca172",
   "metadata": {},
   "outputs": [
    {
     "data": {
      "image/png": "[encoded data removed]",
      "text/plain": [
       "<Figure size 432x288 with 1 Axes>"
      ]
     },
     "metadata": {},
     "output_type": "display_data"
    }
   ],
   "source": [
    "df_ps = df.groupby(['ParentschoolSatisfaction','Class']).size().unstack(level=1)\n",
    "df_ps.plot(kind='bar')\n",
    "plt.savefig(\"ParentSatisfactonSurvey.png\")"
   ]
  },
  {
   "cell_type": "code",
   "execution_count": 191,
   "id": "e26411b5",
   "metadata": {},
   "outputs": [
    {
     "data": {
      "image/png": "[encoded data removed]",
      "text/plain": [
       "<Figure size 432x288 with 1 Axes>"
      ]
     },
     "metadata": {},
     "output_type": "display_data"
    }
   ],
   "source": [
    "rh = sns.boxplot(x=\"Class\", y=\"raisedhands\", data=df)\n",
    "plt.savefig(\"RaisedHands.png\")"
   ]
  },
  {
   "cell_type": "markdown",
   "id": "6521e59b",
   "metadata": {},
   "source": [
    "# Modelling and Accuracy Analysis"
   ]
  },
  {
   "cell_type": "code",
   "execution_count": 192,
   "id": "ec1c7bf7",
   "metadata": {},
   "outputs": [],
   "source": [
    "Xnew = StandardScaler().fit_transform(one_hot_encoded_df[optimal_features])\n",
    "ynew = df.Class\n",
    "X_Train, X_Test, y_Train, y_Test = train_test_split(Xnew, ynew, test_size=0.25, random_state=42)"
   ]
  },
  {
   "cell_type": "code",
   "execution_count": 193,
   "id": "f8232aae",
   "metadata": {},
   "outputs": [],
   "source": [
    "def Confusion_Matrix(model,name):\n",
    "    model.fit(X_Test, y_Test)\n",
    "    predictions = cross_val_predict(model,X_Test,y_Test,cv=10)\n",
    "    cm = confusion_matrix(y_Test, predictions, labels=model.classes_)\n",
    "    disp = ConfusionMatrixDisplay(confusion_matrix=cm,display_labels=model.classes_)\n",
    "    disp.plot()\n",
    "    plt.savefig(name+\".png\",cmap=\"gray\")\n",
    "    plt.show()"
   ]
  },
  {
   "cell_type": "code",
   "execution_count": 194,
   "id": "a2197c56",
   "metadata": {},
   "outputs": [],
   "source": [
    "def numeric_metrics(model):\n",
    "    scores = cross_validate(model, X_Test, y_Test, scoring=[\"accuracy\",\"precision_macro\",\"recall_macro\",\"f1_macro\"],cv=10)\n",
    "    accuracy_mean,accuracy_std=(scores[\"test_accuracy\"].mean()*100,100*scores[\"test_accuracy\"].std())\n",
    "    recall_mean,recall_std=(scores[\"test_recall_macro\"].mean()*100,100*scores[\"test_recall_macro\"].std())\n",
    "    precision_mean,precision_std=(scores[\"test_precision_macro\"].mean()*100,100*scores[\"test_precision_macro\"].std())\n",
    "    f1_mean, f1_std = (scores[\"test_f1_macro\"].mean()*100, scores[\"test_f1_macro\"].std()*100)\n",
    "    print(\"Accuracy: %0.2f (+/- %0.2f)\" % (accuracy_mean,accuracy_std))\n",
    "    print(\"Recall: %0.2f (+/- %0.2f)\" % (recall_mean,recall_std))\n",
    "    print(\"Precision: %0.2f (+/- %0.2f)\" % (precision_mean,precision_std))\n",
    "    print(\"F1 Score: %0.2f (+/- %0.2f)\" % (f1_mean,f1_std))\n",
    "    print(\"Fitting time :\",scores[\"fit_time\"].mean())"
   ]
  },
  {
   "cell_type": "markdown",
   "id": "2a36c9ba",
   "metadata": {},
   "source": [
    "## Random Forest"
   ]
  },
  {
   "cell_type": "code",
   "execution_count": 195,
   "id": "8d2b0d8c",
   "metadata": {},
   "outputs": [
    {
     "name": "stdout",
     "output_type": "stream",
     "text": [
      "Accuracy: 75.83 (+/- 7.86)\n",
      "Recall: 75.33 (+/- 10.29)\n",
      "Precision: 77.94 (+/- 11.62)\n",
      "F1 Score: 74.29 (+/- 10.76)\n",
      "Fitting time : 0.1528099536895752\n"
     ]
    },
    {
     "data": {
      "image/png": "[encoded data removed]",
      "text/plain": [
       "<Figure size 432x288 with 2 Axes>"
      ]
     },
     "metadata": {},
     "output_type": "display_data"
    }
   ],
   "source": [
    "numeric_metrics(Random_Forest)\n",
    "Confusion_Matrix(Random_Forest,\"RandomForest\")"
   ]
  },
  {
   "cell_type": "markdown",
   "id": "4a7da523",
   "metadata": {},
   "source": [
    "## K-Nearest Neighbour"
   ]
  },
  {
   "cell_type": "code",
   "execution_count": 196,
   "id": "57c38d43",
   "metadata": {},
   "outputs": [
    {
     "name": "stdout",
     "output_type": "stream",
     "text": [
      "Accuracy: 76.67 (+/- 9.72)\n",
      "Recall: 75.78 (+/- 11.22)\n",
      "Precision: 77.63 (+/- 15.18)\n",
      "F1 Score: 75.15 (+/- 12.96)\n",
      "Fitting time : 0.0011604547500610352\n"
     ]
    },
    {
     "data": {
      "image/png": "[encoded data removed]",
      "text/plain": [
       "<Figure size 432x288 with 2 Axes>"
      ]
     },
     "metadata": {},
     "output_type": "display_data"
    }
   ],
   "source": [
    "numeric_metrics(KNN)\n",
    "Confusion_Matrix(KNN,\"KNN\")"
   ]
  },
  {
   "cell_type": "markdown",
   "id": "048e7587",
   "metadata": {},
   "source": [
    "## Support Vector Machine"
   ]
  },
  {
   "cell_type": "code",
   "execution_count": 197,
   "id": "1244d5a8",
   "metadata": {},
   "outputs": [
    {
     "name": "stdout",
     "output_type": "stream",
     "text": [
      "Accuracy: 77.50 (+/- 13.46)\n",
      "Recall: 77.28 (+/- 14.19)\n",
      "Precision: 79.72 (+/- 16.39)\n",
      "F1 Score: 76.83 (+/- 15.15)\n",
      "Fitting time : 0.0050392627716064455\n"
     ]
    },
    {
     "data": {
      "image/png": "[encoded data removed]",
      "text/plain": [
       "<Figure size 432x288 with 2 Axes>"
      ]
     },
     "metadata": {},
     "output_type": "display_data"
    }
   ],
   "source": [
    "numeric_metrics(Support_Vector_Machine)\n",
    "Confusion_Matrix(Support_Vector_Machine,\"SVM\")"
   ]
  },
  {
   "cell_type": "markdown",
   "id": "d66440fb",
   "metadata": {},
   "source": [
    "## Logistic Regreession"
   ]
  },
  {
   "cell_type": "code",
   "execution_count": 198,
   "id": "6af2d642",
   "metadata": {},
   "outputs": [
    {
     "name": "stdout",
     "output_type": "stream",
     "text": [
      "Accuracy: 73.33 (+/- 16.58)\n",
      "Recall: 74.56 (+/- 16.41)\n",
      "Precision: 75.41 (+/- 18.80)\n",
      "F1 Score: 73.22 (+/- 17.18)\n",
      "Fitting time : 0.02652750015258789\n"
     ]
    },
    {
     "data": {
      "image/png": "[encoded data removed]",
      "text/plain": [
       "<Figure size 432x288 with 2 Axes>"
      ]
     },
     "metadata": {},
     "output_type": "display_data"
    }
   ],
   "source": [
    "numeric_metrics(Logistic_Regression)\n",
    "Confusion_Matrix(Logistic_Regression,\"LR\")"
   ]
  },
  {
   "cell_type": "markdown",
   "id": "c6e8d213",
   "metadata": {},
   "source": [
    "## Gaussian Naive Bayes"
   ]
  },
  {
   "cell_type": "code",
   "execution_count": 174,
   "id": "a064a4cc",
   "metadata": {},
   "outputs": [
    {
     "name": "stdout",
     "output_type": "stream",
     "text": [
      "Accuracy: 52.50 (+/- 9.17)\n",
      "Recall: 60.56 (+/- 10.96)\n",
      "Precision: 59.10 (+/- 14.31)\n",
      "F1 Score: 53.07 (+/- 9.77)\n",
      "Fitting time : 0.0026489019393920897\n"
     ]
    },
    {
     "data": {
      "image/png": "[encoded data removed]",
      "text/plain": [
       "<Figure size 432x288 with 2 Axes>"
      ]
     },
     "metadata": {},
     "output_type": "display_data"
    }
   ],
   "source": [
    "numeric_metrics(Gaussian_NB)\n",
    "Confusion_Matrix(Gaussian_NB,\"GaussianNB\")"
   ]
  },
  {
   "cell_type": "markdown",
   "id": "ab5ea081",
   "metadata": {},
   "source": [
    "# Limitations\n",
    "\n",
    "Investigating instance where we faced limitation in our model"
   ]
  },
  {
   "cell_type": "code",
   "execution_count": 175,
   "id": "304c0ba1",
   "metadata": {},
   "outputs": [
    {
     "data": {
      "text/plain": [
       "0    M\n",
       "dtype: object"
      ]
     },
     "execution_count": 175,
     "metadata": {},
     "output_type": "execute_result"
    },
    {
     "data": {
      "image/png": "[encoded data removed]",
      "text/plain": [
       "<Figure size 432x288 with 1 Axes>"
      ]
     },
     "metadata": {},
     "output_type": "display_data"
    }
   ],
   "source": [
    "ax = sns.countplot(x='Class',data=df)\n",
    "ax.tick_params(axis='x', rotation=90)\n",
    "df['Class'].mode()"
   ]
  },
  {
   "cell_type": "code",
   "execution_count": 92,
   "id": "41f1f94b",
   "metadata": {},
   "outputs": [
    {
     "data": {
      "text/plain": [
       "(127, 17)"
      ]
     },
     "execution_count": 92,
     "metadata": {},
     "output_type": "execute_result"
    }
   ],
   "source": [
    " df[df['Class']=='L'].shape"
   ]
  },
  {
   "cell_type": "code",
   "execution_count": 93,
   "id": "cb7fb52c",
   "metadata": {},
   "outputs": [
    {
     "data": {
      "text/plain": [
       "(211, 17)"
      ]
     },
     "execution_count": 93,
     "metadata": {},
     "output_type": "execute_result"
    }
   ],
   "source": [
    "df[df['Class']=='M'].shape"
   ]
  },
  {
   "cell_type": "code",
   "execution_count": 94,
   "id": "22a2355b",
   "metadata": {},
   "outputs": [
    {
     "data": {
      "text/plain": [
       "(142, 17)"
      ]
     },
     "execution_count": 94,
     "metadata": {},
     "output_type": "execute_result"
    }
   ],
   "source": [
    " df[df['Class']=='H'].shape"
   ]
  },
  {
   "cell_type": "code",
   "execution_count": 95,
   "id": "7601486b",
   "metadata": {},
   "outputs": [
    {
     "data": {
      "text/plain": [
       "(480, 17)"
      ]
     },
     "execution_count": 95,
     "metadata": {},
     "output_type": "execute_result"
    }
   ],
   "source": [
    " df.shape"
   ]
  },
  {
   "cell_type": "code",
   "execution_count": 96,
   "id": "32d26fbf",
   "metadata": {},
   "outputs": [
    {
     "data": {
      "text/plain": [
       "0.26458333333333334"
      ]
     },
     "execution_count": 96,
     "metadata": {},
     "output_type": "execute_result"
    }
   ],
   "source": [
    "127/480"
   ]
  },
  {
   "cell_type": "code",
   "execution_count": 98,
   "id": "c23472c3",
   "metadata": {},
   "outputs": [
    {
     "data": {
      "text/plain": [
       "0.4395833333333333"
      ]
     },
     "execution_count": 98,
     "metadata": {},
     "output_type": "execute_result"
    }
   ],
   "source": [
    "211/480"
   ]
  },
  {
   "cell_type": "code",
   "execution_count": 99,
   "id": "36849b3d",
   "metadata": {},
   "outputs": [
    {
     "data": {
      "text/plain": [
       "0.29583333333333334"
      ]
     },
     "execution_count": 99,
     "metadata": {},
     "output_type": "execute_result"
    }
   ],
   "source": [
    "142/480"
   ]
  },
  {
   "cell_type": "code",
   "execution_count": null,
   "id": "516a84b3",
   "metadata": {},
   "outputs": [],
   "source": []
  }
 ],
 "metadata": {
  "kernelspec": {
   "display_name": "Python 3",
   "language": "python",
   "name": "python3"
  },
  "language_info": {
   "codemirror_mode": {
    "name": "ipython",
    "version": 3
   },
   "file_extension": ".py",
   "mimetype": "text/x-python",
   "name": "python",
   "nbconvert_exporter": "python",
   "pygments_lexer": "ipython3",
   "version": "3.8.8"
  }
 },
 "nbformat": 4,
 "nbformat_minor": 5
}
